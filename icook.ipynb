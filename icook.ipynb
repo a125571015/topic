{
 "cells": [
  {
   "cell_type": "code",
   "execution_count": 4,
   "metadata": {},
   "outputs": [],
   "source": [
    "import requests\n",
    "from bs4 import BeautifulSoup\n",
    "import re\n",
    "\n",
    "headers = {'User-agent': 'Mozilla/5.0 (Windows NT 10.0; Win64; x64) AppleWebKit/537.36 (KHTML, like Gecko) Chrome/80.0.3987.163 Safari/537.36'}\n",
    "url = 'https://icook.tw/categories/453?page=27'\n",
    "\n",
    "res = requests.get(url, headers=headers)\n",
    "soup = BeautifulSoup(res.text,'html.parser')\n",
    "#print(soup)"
   ]
  },
  {
   "cell_type": "code",
   "execution_count": 3,
   "metadata": {},
   "outputs": [
    {
     "ename": "IndexError",
     "evalue": "list index out of range",
     "output_type": "error",
     "traceback": [
      "\u001b[1;31m---------------------------------------------------------------------------\u001b[0m",
      "\u001b[1;31mIndexError\u001b[0m                                Traceback (most recent call last)",
      "\u001b[1;32m<ipython-input-3-5213e41a3aa5>\u001b[0m in \u001b[0;36m<module>\u001b[1;34m\u001b[0m\n\u001b[1;32m----> 1\u001b[1;33m \u001b[0mtitle\u001b[0m \u001b[1;33m=\u001b[0m \u001b[0msoup\u001b[0m\u001b[1;33m.\u001b[0m\u001b[0mselect\u001b[0m\u001b[1;33m(\u001b[0m\u001b[1;34m'title'\u001b[0m\u001b[1;33m)\u001b[0m\u001b[1;33m[\u001b[0m\u001b[1;36m0\u001b[0m\u001b[1;33m]\u001b[0m\u001b[1;33m.\u001b[0m\u001b[0mtext\u001b[0m\u001b[1;33m\u001b[0m\u001b[1;33m\u001b[0m\u001b[0m\n\u001b[0m\u001b[0;32m      2\u001b[0m \u001b[0mtotal_recipe\u001b[0m \u001b[1;33m=\u001b[0m \u001b[0mre\u001b[0m\u001b[1;33m.\u001b[0m\u001b[0mfindall\u001b[0m\u001b[1;33m(\u001b[0m\u001b[1;34mr'\\d+'\u001b[0m\u001b[1;33m,\u001b[0m\u001b[0mtitle\u001b[0m\u001b[1;33m)\u001b[0m\u001b[1;33m\u001b[0m\u001b[1;33m\u001b[0m\u001b[0m\n\u001b[0;32m      3\u001b[0m \u001b[0mtotal_recipe\u001b[0m \u001b[1;33m=\u001b[0m \u001b[0mint\u001b[0m\u001b[1;33m(\u001b[0m\u001b[1;34m''\u001b[0m\u001b[1;33m.\u001b[0m\u001b[0mjoin\u001b[0m\u001b[1;33m(\u001b[0m\u001b[0mtotal_recipe\u001b[0m\u001b[1;33m)\u001b[0m\u001b[1;33m)\u001b[0m\u001b[1;33m\u001b[0m\u001b[1;33m\u001b[0m\u001b[0m\n\u001b[0;32m      4\u001b[0m \u001b[0mprint\u001b[0m\u001b[1;33m(\u001b[0m\u001b[0mtotal_recipe\u001b[0m\u001b[1;33m)\u001b[0m\u001b[1;33m\u001b[0m\u001b[1;33m\u001b[0m\u001b[0m\n",
      "\u001b[1;31mIndexError\u001b[0m: list index out of range"
     ]
    }
   ],
   "source": [
    "title = soup.select('title')[0].text\n",
    "total_recipe = re.findall(r'\\d+',title)\n",
    "total_recipe = int(''.join(total_recipe))\n",
    "print(total_recipe)"
   ]
  },
  {
   "cell_type": "code",
   "execution_count": 1,
   "metadata": {
    "scrolled": true
   },
   "outputs": [
    {
     "ename": "NameError",
     "evalue": "name 'soup' is not defined",
     "output_type": "error",
     "traceback": [
      "\u001b[1;31m---------------------------------------------------------------------------\u001b[0m",
      "\u001b[1;31mNameError\u001b[0m                                 Traceback (most recent call last)",
      "\u001b[1;32m<ipython-input-1-99ecc6aef2e3>\u001b[0m in \u001b[0;36m<module>\u001b[1;34m\u001b[0m\n\u001b[0;32m      4\u001b[0m \u001b[1;32mimport\u001b[0m \u001b[0memoji\u001b[0m\u001b[1;33m\u001b[0m\u001b[1;33m\u001b[0m\u001b[0m\n\u001b[0;32m      5\u001b[0m \u001b[0mdf\u001b[0m \u001b[1;33m=\u001b[0m \u001b[0mpd\u001b[0m\u001b[1;33m.\u001b[0m\u001b[0mDataFrame\u001b[0m\u001b[1;33m(\u001b[0m\u001b[0mcolumns\u001b[0m \u001b[1;33m=\u001b[0m \u001b[1;33m[\u001b[0m\u001b[1;34m'Recipe Name'\u001b[0m\u001b[1;33m,\u001b[0m\u001b[1;34m'Author'\u001b[0m\u001b[1;33m,\u001b[0m\u001b[1;34m'Recipe Picture'\u001b[0m\u001b[1;33m,\u001b[0m\u001b[1;34m'Servings'\u001b[0m\u001b[1;33m,\u001b[0m\u001b[1;34m'Time'\u001b[0m\u001b[1;33m,\u001b[0m\u001b[1;34m'Ingredients'\u001b[0m\u001b[1;33m,\u001b[0m\u001b[1;34m'Unit'\u001b[0m\u001b[1;33m,\u001b[0m\u001b[1;34m'Recipe Steps'\u001b[0m\u001b[1;33m]\u001b[0m\u001b[1;33m)\u001b[0m\u001b[1;33m\u001b[0m\u001b[1;33m\u001b[0m\u001b[0m\n\u001b[1;32m----> 6\u001b[1;33m \u001b[0mfood_list\u001b[0m \u001b[1;33m=\u001b[0m \u001b[0msoup\u001b[0m\u001b[1;33m.\u001b[0m\u001b[0mselect\u001b[0m\u001b[1;33m(\u001b[0m\u001b[1;34m'a.browse-recipe-touch-link'\u001b[0m\u001b[1;33m)\u001b[0m\u001b[1;33m\u001b[0m\u001b[1;33m\u001b[0m\u001b[0m\n\u001b[0m\u001b[0;32m      7\u001b[0m \u001b[0mc\u001b[0m \u001b[1;33m=\u001b[0m \u001b[1;36m0\u001b[0m\u001b[1;33m\u001b[0m\u001b[1;33m\u001b[0m\u001b[0m\n\u001b[0;32m      8\u001b[0m \u001b[1;31m#print(food_list)\u001b[0m\u001b[1;33m\u001b[0m\u001b[1;33m\u001b[0m\u001b[1;33m\u001b[0m\u001b[0m\n",
      "\u001b[1;31mNameError\u001b[0m: name 'soup' is not defined"
     ]
    }
   ],
   "source": [
    "import time\n",
    "import random\n",
    "import pandas as pd\n",
    "import emoji\n",
    "df = pd.DataFrame(columns = ['Recipe Name','Author','Recipe Picture','Servings','Time','Ingredients','Unit','Recipe Steps'])\n",
    "food_list = soup.select('a.browse-recipe-touch-link')\n",
    "c = 0\n",
    "#print(food_list)\n",
    "for food in food_list:\n",
    "    recipe_url = 'https://icook.tw/' + food['href']\n",
    "    #recipe_url = \"https://icook.hk/recipes/310526\"\n",
    "    print(recipe_url)\n",
    "    res_recipe = requests.get(recipe_url,headers=headers)\n",
    "    soup_recipe = BeautifulSoup(res_recipe.text,'html.parser')\n",
    "    recipe_title = \"\".join((soup_recipe.select('h1.title')[0].text).split())\n",
    "    recipe_author = soup_recipe.select('a.author-name-link')[0].text\n",
    "    recipe_pic_url = soup_recipe.select(\"img.main-pic\")[0]['src']\n",
    "    \n",
    "    if len(soup_recipe.select('span.stat-content')) == 2:\n",
    "        recipe_like = 0\n",
    "    else:\n",
    "        if '萬' in soup_recipe.select('span.stat-content')[0].text:\n",
    "            recipe_like = int(soup_recipe.select('span.stat-content')[0].text[:-5].replace('.','')+\"000\")\n",
    "        else:\n",
    "            recipe_like = int(soup_recipe.select('span.stat-content')[0].text[:-3].replace(',',''))\n",
    "        \n",
    "    \n",
    "    if not soup_recipe.select('div.servings-info.info-block') and not soup_recipe.select('div.time-info.info-block'):\n",
    "        recipe_servings = 0\n",
    "        recipe_time = 0\n",
    "    elif not soup_recipe.select('div.time-info.info-block'):\n",
    "        recipe_servings = int(soup_recipe.select('span.num')[0].text)\n",
    "        recipe_time = 0\n",
    "    elif  not soup_recipe.select('div.servings-info.info-block'): \n",
    "        recipe_servings = 0\n",
    "        recipe_time = int(soup_recipe.select('span.num')[0].text)\n",
    "    else: \n",
    "        recipe_servings = int(soup_recipe.select('span.num')[0].text)\n",
    "        recipe_time = int(soup_recipe.select('span.num')[1].text)\n",
    "\n",
    "    recipe_ingredient = \"\"\n",
    "    for ingredient in soup_recipe.select('a.ingredient-search'):\n",
    "        recipe_ingredient += ingredient.text + \" \" \n",
    "\n",
    "    recipe_unit = \"\"\n",
    "    for unit in soup_recipe.select('div.ingredient-unit'):\n",
    "        recipe_unit += unit.text + \" \"\n",
    "\n",
    "    recipe_steps = \"\"\n",
    "    counter = 1\n",
    "    for steps in soup_recipe.select('div.step-instruction-content'):\n",
    "        recipe_steps += str(counter) + \" \" + steps.text + \"\\n\"\n",
    "        counter += 1\n",
    "        \n",
    "    publish_date =soup_recipe.select('span.meta-content')[0].text.split(' ')[0]\n",
    "    views = soup_recipe.select('span.meta-content')[1].text[:-3]\n",
    "    \n",
    "    \n",
    "    print(recipe_title)\n",
    "    #print(recipe_author)\n",
    "    #print(recipe_pic_url)\n",
    "    #print(recipe_like)\n",
    "    #print(recipe_servings)\n",
    "    #print(recipe_time)\n",
    "    #print(recipe_ingredient)\n",
    "    #print(recipe_unit)\n",
    "    #print(recipe_steps)\n",
    "    \n",
    "   \n",
    "    print(publish_date)\n",
    "    print(\"___\")\n",
    "    print(views)\n",
    "    \n",
    "\n",
    "\n"
   ]
  },
  {
   "cell_type": "code",
   "execution_count": null,
   "metadata": {},
   "outputs": [],
   "source": [
    "print(soup_recipe.select('span.meta-content'))"
   ]
  },
  {
   "cell_type": "code",
   "execution_count": 98,
   "metadata": {
    "scrolled": false
   },
   "outputs": [
    {
     "name": "stdout",
     "output_type": "stream",
     "text": [
      "https://icook.tw/recipes/91271\n",
      "is not vip data, data will be save\n",
      "[<span class=\"stat-content\">112 說讚</span>, <span class=\"stat-content\" data-url=\"/recipes/91271/dishes\">\n",
      "                    1 跟著做\n",
      "</span>, <span class=\"stat-content bold\">\n",
      "                   留言\n",
      "</span>]\n",
      "《飛利浦麵包機》蜂蜜蘋果果醬\n",
      "《飛利浦麵包機》蜂蜜蘋果果醬\n"
     ]
    }
   ],
   "source": [
    "import time\n",
    "import random\n",
    "import requests\n",
    "from bs4 import BeautifulSoup\n",
    "import re\n",
    "import emoji\n",
    "def preprocess (x):\n",
    "    x = emoji.get_emoji_regexp().sub(r'', x)\n",
    "    x = re.sub(r'[［(（【{][^】)}）］]*[】)}）］]', '', x)\n",
    "    x = x.strip().replace(\" \", \"\")\n",
    "    x = re.sub(r'[~\\-。]', \"\", x) \n",
    "    return x\n",
    "headers = {'User-agent': 'Mozilla/5.0 (Windows NT 10.0; Win64; x64) AppleWebKit/537.36 (KHTML, like Gecko) Chrome/80.0.3987.163 Safari/537.36'}\n",
    "url = 'https://icook.tw/categories/39'\n",
    "\n",
    "res = requests.get(url, headers=headers)\n",
    "soup = BeautifulSoup(res.text,'html.parser')\n",
    "\n",
    "\n",
    "food_list = soup.select('a.browse-recipe-touch-link')\n",
    "#print(food_list)\n",
    "#recipe_url = 'https://icook.tw/' + food['href']\n",
    "recipe_url = \"https://icook.tw/recipes/91271\"\n",
    "print(recipe_url)\n",
    "res_recipe = requests.get(recipe_url,headers=headers)\n",
    "soup_recipe = BeautifulSoup(res_recipe.text,'html.parser')\n",
    "re_text=soup_recipe.select('h1.title')[0].text\n",
    "re_text= preprocess(re_text)\n",
    "recipe_title = \"\".join((soup_recipe.select('h1.title')[0].text).split())\n",
    "recipe_title = preprocess(recipe_title)\n",
    "\n",
    "check_vip=soup_recipe.select('h1.title')[0].select('span.badge-vip')\n",
    "if len(check_vip)<=0:\n",
    "    print(\"is not vip data, data will be save\")\n",
    "else:\n",
    "    print(\"this is vip data,data will not save\")\n",
    "    \n",
    "recipe_author = soup_recipe.select('a.author-name-link')[0].text\n",
    "recipe_pic_url = soup_recipe.select(\"img.main-pic\")[0]['src']\n",
    "#if not soup_recipe.select('span.stat-content'):\n",
    "    #recipe_like = 0\n",
    "#else:\n",
    "    #recipe_like = int(soup_recipe.select('span.stat-content')[0].text[0:2])\n",
    "print(soup_recipe.select('span.stat-content'))\n",
    "if not soup_recipe.select('div.servings-info.info-block') and not soup_recipe.select('div.time-info.info-block'):\n",
    "    recipe_servings = 0\n",
    "    recipe_time = 0\n",
    "elif not soup_recipe.select('div.time-info.info-block'):\n",
    "    recipe_servings = int(soup_recipe.select('span.num')[0].text)\n",
    "    recipe_time = 0\n",
    "elif  not soup_recipe.select('div.servings-info.info-block'): \n",
    "    recipe_servings = 0\n",
    "    recipe_time = int(soup_recipe.select('span.num')[0].text)\n",
    "else: \n",
    "    recipe_servings = int(soup_recipe.select('span.num')[0].text)\n",
    "    recipe_time = int(soup_recipe.select('span.num')[1].text)\n",
    "\n",
    "recipe_ingredient = \"\"\n",
    "for ingredient in soup_recipe.select('a.ingredient-search'):\n",
    "    recipe_ingredient += ingredient.text + \" \" \n",
    "\n",
    "recipe_unit = \"\"\n",
    "for unit in soup_recipe.select('div.ingredient-unit'):\n",
    "    recipe_unit += unit.text + \" \"\n",
    "\n",
    "recipe_steps = \"\"\n",
    "counter = 1\n",
    "for steps in soup_recipe.select('div.step-instruction-content'):\n",
    "    recipe_steps += str(counter) + \" \" + steps.text + \"\\n\"\n",
    "    counter += 1\n",
    "   \n",
    "if len(soup_recipe.select('span.stat-content')) == 2:\n",
    "    recipe_like = 0\n",
    "else:\n",
    "    if '萬' in soup_recipe.select('span.stat-content')[0].text:\n",
    "        recipe_like = int(soup_recipe.select('span.stat-content')[0].text[:-5].replace('.','')+\"000\")\n",
    "    else:\n",
    "        recipe_like = int(soup_recipe.select('span.stat-content')[0].text[:-3].replace(',',''))\n",
    "\n",
    "    \n",
    "\n",
    "publish_date = soup_recipe.select('span.meta-content')\n",
    "if len (publish_date)<=0:\n",
    "    print(\"publish_date is na\")\n",
    "    publish_date=\"na\"\n",
    "else:\n",
    "    publish_date = publish_date[0].text[:-3]\n",
    "    \n",
    " \n",
    "\n",
    "\n",
    "views = soup_recipe.select('span.meta-content')\n",
    "if len(views)<=0:\n",
    "    print(\"view is na\")\n",
    "    views_number=0\n",
    "    views=\"0\"\n",
    "else:\n",
    "    views=views[1].text[:-3]\n",
    "    if '萬' in views:\n",
    "        views_number = views[:-2]\n",
    "        views_number = int(views_number.replace('.','')+\"000\")\n",
    "    else:\n",
    "        views_number = int(views.replace(',',''))\n",
    "#print(recipe_title_test)\n",
    "print(recipe_title)\n",
    "print(re_text)\n",
    "#print(recipe_author)\n",
    "#print(recipe_pic_url)\n",
    "#print(recipe_like)\n",
    "#print(recipe_servings)\n",
    "#print(recipe_time)\n",
    "#print(recipe_ingredient)\n",
    "#print(recipe_unit)\n",
    "#print(recipe_steps)\n",
    "#print(publish_date) \n",
    "\n",
    "#print(views)\n",
    "\n",
    "#print (views_number)"
   ]
  },
  {
   "cell_type": "code",
   "execution_count": 88,
   "metadata": {},
   "outputs": [
    {
     "name": "stdout",
     "output_type": "stream",
     "text": [
      "['/categories/39', '/categories/41', '/categories/43', '/categories/61', '/categories/60', '/categories/62', '/categories/83', '/categories/590', '/categories/68', '/categories/64', '/categories/63', '/categories/216', '/categories/350', '/categories/219', '/categories/20', '/categories/463', '/categories/599', '/categories/462', '/categories/148', '/categories/27', '/categories/147', '/categories/210', '/categories/206', '/categories/77', '/categories/498', '/categories/453', '/categories/495', '/categories/29', '/categories/30', '/categories/455', '/categories/456', '/categories/13', '/categories/449', '/categories/26', '/categories/25', '/categories/110', '/categories/417', '/categories/458', '/categories/459', '/categories/600', '/categories/612', '/categories/613', '/categories/614', '/categories/616', '/categories/211', '/categories/185', '/categories/52', '/categories/71', '/categories/137', '/categories/49', '/categories/50', '/categories/602', '/categories/607']\n"
     ]
    }
   ],
   "source": [
    "import requests\n",
    "from bs4 import BeautifulSoup\n",
    "import re\n",
    "\n",
    "headers = {'User-agent': 'Mozilla/5.0 (Windows NT 10.0; Win64; x64) AppleWebKit/537.36 (KHTML, like Gecko) Chrome/80.0.3987.163 Safari/537.36'}\n",
    "url = 'https://icook.tw/categories?ref=icook-footer'\n",
    "\n",
    "res = requests.get(url, headers=headers)\n",
    "soup = BeautifulSoup(res.text,'html.parser')\n",
    "tag_list = soup.select('a.categories-all-child-link')\n",
    "ls = []\n",
    "for tag in tag_list:\n",
    "    ls.append(tag['href'])\n",
    "#print(ls)\n",
    "me = ls[:len(ls)//2]\n",
    "you = ls[len(ls)//2:]\n",
    "print(you)\n",
    "\n"
   ]
  },
  {
   "cell_type": "code",
   "execution_count": null,
   "metadata": {},
   "outputs": [],
   "source": [
    "list1=[39,64,63,216,350,219,20,463,559,462,148,27,147,210,206,77,498,453,495,29,30,445,456,13,449,26,25,110,417,458,459,600,612,613,614,616,221,185,52,71,137,49,50,602,607]\n",
    "['/categories/39', '/categories/41', '/categories/43', '/categories/61', '/categories/60', '/categories/62', '/categories/83', '/categories/590', '/categories/68', '/categories/64', '/categories/63', '/categories/216', '/categories/350', '/categories/219', '/categories/20', '/categories/463', '/categories/599', '/categories/462', '/categories/148', '/categories/27', '/categories/147', '/categories/210', '/categories/206', '/categories/77', '/categories/498', '/categories/453', '/categories/495', '/categories/29', '/categories/30', '/categories/455', '/categories/456', '/categories/13', '/categories/449', '/categories/26', '/categories/25', '/categories/110', '/categories/417', '/categories/458', '/categories/459', '/categories/600', '/categories/612', '/categories/613', '/categories/614', '/categories/616', '/categories/211', '/categories/185', '/categories/52', '/categories/71', '/categories/137', '/categories/49', '/categories/50', '/categories/602', '/categories/607']"
   ]
  },
  {
   "cell_type": "code",
   "execution_count": 89,
   "metadata": {},
   "outputs": [
    {
     "name": "stdout",
     "output_type": "stream",
     "text": [
      "[1893, 205, 265, 1281, 1184, 952, 199, 222, 374, 328, 378, 777, 267, 126, 674, 698, 365, 347, 862, 2554, 1356, 379, 1634, 601, 303, 535, 705, 1210, 189, 700, 115, 557, 837, 1197, 107, 586, 76, 406, 116, 36, 2233, 117, 63, 315, 397, 154, 321, 425, 376, 413, 942, 590, 157]\n",
      "53\n",
      "['39', '41', '43', '61', '60', '62', '83', '590', '68', '64', '63', '216', '350', '219', '20', '463', '599', '462', '148', '27', '147', '210', '206', '77', '498', '453', '495', '29', '30', '455', '456', '13', '449', '26', '25', '110', '417', '458', '459', '600', '612', '613', '614', '616', '211', '185', '52', '71', '137', '49', '50', '602', '607']\n",
      "53\n"
     ]
    }
   ],
   "source": [
    "import threading\n",
    "import time\n",
    "import emoji\n",
    "import re\n",
    "import random\n",
    "import requests\n",
    "import pandas as pd\n",
    "from bs4 import BeautifulSoup\n",
    "\n",
    "headers = {'User-agent': 'Mozilla/5.0 (Windows NT 6.1; Win64; x64; rv:77.0) Gecko/20100101 Firefox/77.0'}\n",
    "section_url = 'https://icook.tw/categories?ref=icook-footer'\n",
    "\n",
    "res = requests.get(section_url, headers=headers)\n",
    "soup_section = BeautifulSoup(res.text,'html.parser')\n",
    "tag_list = soup_section.select('a.categories-all-child-link')\n",
    "section_ls = []\n",
    "\n",
    "#your_section=['/categories/592', '/categories/593', '/categories/104', '/categories/491', '/categories/113', '/categories/10', '/categories/7', '/categories/591', '/categories/209', '/categories/217', '/categories/207', '/categories/107', '/categories/112', '/categories/111', '/categories/108', '/categories/413', '/categories/208', '/categories/241', '/categories/380', '/categories/596', '/categories/28', '/categories/8', '/categories/360', '/categories/46', '/categories/200', '/categories/346', '/categories/339', '/categories/345', '/categories/347', '/categories/375', '/categories/73', '/categories/23', '/categories/17', '/categories/342', '/categories/465', '/categories/341', '/categories/349', '/categories/16', '/categories/15', '/categories/521', '/categories/18', '/categories/608', '/categories/395', '/categories/393', '/categories/394', '/categories/390', '/categories/2', '/categories/6', '/categories/301', '/categories/302', '/categories/3', '/categories/40', '/categories/38']\n",
    "data_number=[]\n",
    "\n",
    "for i in  you:   \n",
    "    url=\"https://icook.tw/\"+i\n",
    "    res = requests.get(url, headers=headers)\n",
    "    soup=BeautifulSoup(res.text,'html.parser')\n",
    "    title = soup.select('title')[0].text\n",
    "    total_recipe = re.findall(r'\\d+',title)\n",
    "    total_recipe = int(''.join(total_recipe))\n",
    "    #print(total_recipe)\n",
    "    data_number.append(total_recipe)\n",
    "print(data_number)   \n",
    "print(len(data_number))   \n",
    "\n",
    "data_name=[]\n",
    "for i in you:\n",
    "    #print (i.split('/')[2])\n",
    "    data_name.append(i.split('/')[2])\n",
    "print(data_name)\n",
    "print(len(data_name))"
   ]
  },
  {
   "cell_type": "code",
   "execution_count": 90,
   "metadata": {},
   "outputs": [
    {
     "name": "stdout",
     "output_type": "stream",
     "text": [
      "{'39': 1893, '41': 205, '43': 265, '61': 1281, '60': 1184, '62': 952, '83': 199, '590': 222, '68': 374, '64': 328, '63': 378, '216': 777, '350': 267, '219': 126, '20': 674, '463': 698, '599': 365, '462': 347, '148': 862, '27': 2554, '147': 1356, '210': 379, '206': 1634, '77': 601, '498': 303, '453': 535, '495': 705, '29': 1210, '30': 189, '455': 700, '456': 115, '13': 557, '449': 837, '26': 1197, '25': 107, '110': 586, '417': 76, '458': 406, '459': 116, '600': 36, '612': 2233, '613': 117, '614': 63, '616': 315, '211': 397, '185': 154, '52': 321, '71': 425, '137': 376, '49': 413, '50': 942, '602': 590, '607': 157}\n",
      "     39   41   43    61    60   62   83  590   68   64  ...  616  211  185  \\\n",
      "0  1893  205  265  1281  1184  952  199  222  374  328  ...  315  397  154   \n",
      "\n",
      "    52   71  137   49   50  602  607  \n",
      "0  321  425  376  413  942  590  157  \n",
      "\n",
      "[1 rows x 53 columns]\n"
     ]
    }
   ],
   "source": [
    "import pandas as pd\n",
    "tmp = dict(zip(data_name, data_number)) \n",
    "print(tmp)\n",
    "df=pd.DataFrame(tmp,index=[0])\n",
    "print(df)\n",
    "\n",
    "df.to_csv('./test2.csv', index=False ,encoding='utf-8-sig')\n",
    "\n",
    "#print(sorted(tmp.values()))\n"
   ]
  },
  {
   "cell_type": "code",
   "execution_count": 76,
   "metadata": {},
   "outputs": [
    {
     "name": "stdout",
     "output_type": "stream",
     "text": [
      "45\n",
      "['/categories/600', '/categories/614', '/categories/417', '/categories/25', '/categories/456', '/categories/459', '/categories/613', '/categories/219', '/categories/185', '/categories/607', '/categories/30', '/categories/350', '/categories/498', '/categories/616', '/categories/52', '/categories/64', '/categories/462', '/categories/599', '/categories/137', '/categories/63', '/categories/210', '/categories/211', '/categories/458', '/categories/49', '/categories/71', '/categories/453', '/categories/13', '/categories/110', '/categories/602', '/categories/77', '/categories/20', '/categories/463', '/categories/455', '/categories/495', '/categories/216', '/categories/449', '/categories/148', '/categories/50', '/categories/26', '/categories/29', '/categories/147', '/categories/206', '/categories/39', '/categories/612', '/categories/27']\n",
      "[]\n"
     ]
    }
   ],
   "source": [
    "test3=[600,614,417,25,456,459,613,219,185,607,30,350,498,616,52,64,462,599,137,63,210,211,458,49,71,453,13,110,602,77,20,463,455,495,216,449,148,50,26,29,147,206,39,612,27]\n",
    "print(len(test3))\n",
    "test4=[]\n",
    "for i in test3:\n",
    "    #print('/categories/'+str(i))\n",
    "    x='/categories/'+str(i)\n",
    "    test4.append(x)\n",
    "    \n",
    "print(test4)\n",
    "\n",
    "\n",
    "test5=[342,465,347,104,23,593,108,207,346,375,596,413,209,112,217,341,591,241,592,521,7,200,113,2,345,380,73,491,10,339,208,107,302,28,18,111,360,390,394,349,301,17,6,608,395,8,15,38,393,46,40,16,3]\n",
    "test6=[]\n",
    "for i in test5:\n",
    "    x='/categories/'+str(i)\n",
    "    test4.append(x)\n",
    "\n",
    "print(test6)\n",
    "\n",
    "\n"
   ]
  },
  {
   "cell_type": "code",
   "execution_count": null,
   "metadata": {},
   "outputs": [],
   "source": []
  }
 ],
 "metadata": {
  "kernelspec": {
   "display_name": "Python 3",
   "language": "python",
   "name": "python3"
  },
  "language_info": {
   "codemirror_mode": {
    "name": "ipython",
    "version": 3
   },
   "file_extension": ".py",
   "mimetype": "text/x-python",
   "name": "python",
   "nbconvert_exporter": "python",
   "pygments_lexer": "ipython3",
   "version": "3.7.7"
  }
 },
 "nbformat": 4,
 "nbformat_minor": 4
}
