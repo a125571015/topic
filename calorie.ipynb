{
 "cells": [
  {
   "cell_type": "code",
   "execution_count": 36,
   "metadata": {},
   "outputs": [
    {
     "name": "stdout",
     "output_type": "stream",
     "text": [
      "<td class=\"txt_L shortStyleAuto\" data-th=\"樣品名稱\"><a href=\"tfndDetail.aspx?nodeID=178&amp;f=0&amp;id=30\" target=\"_blank\" title=\"大麥仁\">大麥仁</a></td>\n",
      "<td class=\"txt_L shortStyleAuto\" data-th=\"樣品名稱\"><a href=\"tfndDetail.aspx?nodeID=178&amp;f=0&amp;id=56\" target=\"_blank\" title=\"大麥片\">大麥片</a></td>\n",
      "<td class=\"txt_L shortStyleAuto\" data-th=\"樣品名稱\"><a href=\"tfndDetail.aspx?nodeID=178&amp;f=0&amp;id=114\" target=\"_blank\" title=\"大麥仁粉\">大麥仁粉</a></td>\n",
      "<td class=\"txt_L shortStyleAuto\" data-th=\"樣品名稱\"><a href=\"tfndDetail.aspx?nodeID=178&amp;f=0&amp;id=1549\" target=\"_blank\" title=\"麥茶\">麥茶</a></td>\n",
      "<td class=\"txt_L shortStyleAuto\" data-th=\"樣品名稱\"><a href=\"tfndDetail.aspx?nodeID=178&amp;f=0&amp;id=29\" target=\"_blank\" title=\"小米\">小米</a></td>\n",
      "<td class=\"txt_L shortStyleAuto\" data-th=\"樣品名稱\"><a href=\"tfndDetail.aspx?nodeID=178&amp;f=0&amp;id=87\" target=\"_blank\" title=\"糯小米\">糯小米</a></td>\n",
      "<td class=\"txt_L shortStyleAuto\" data-th=\"樣品名稱\"><a href=\"tfndDetail.aspx?nodeID=178&amp;f=0&amp;id=18\" target=\"_blank\" title=\"小麥\">小麥</a></td>\n",
      "<td class=\"txt_L shortStyleAuto\" data-th=\"樣品名稱\"><a href=\"tfndDetail.aspx?nodeID=178&amp;f=0&amp;id=19\" target=\"_blank\" title=\"小麥胚芽\">小麥胚芽</a></td>\n",
      "<td class=\"txt_L shortStyleAuto\" data-th=\"樣品名稱\"><a href=\"tfndDetail.aspx?nodeID=178&amp;f=0&amp;id=119\" target=\"_blank\" title=\"去筋麵粉\">去筋麵粉</a></td>\n",
      "<td class=\"txt_L shortStyleAuto\" data-th=\"樣品名稱\"><a href=\"tfndDetail.aspx?nodeID=178&amp;f=0&amp;id=22\" target=\"_blank\" title=\"低筋麵粉\">低筋麵粉</a></td>\n"
     ]
    }
   ],
   "source": [
    "import requests\n",
    "from bs4 import BeautifulSoup\n",
    "import os\n",
    "import json\n",
    "import random,time\n",
    "from random import randint\n",
    "import re\n",
    "import urllib\n",
    "import sys\n",
    "from urllib import request\n",
    "from datetime import datetime\n",
    "import pandas as pd\n",
    "from pandas.core.frame import DataFrame\n",
    "from datetime import datetime\n",
    "\n",
    "\n",
    "\n",
    "def get_html(url):\n",
    "    headers={'User-Agent':'Mozilla/5.0 (Windows NT 6.1; Win64; x64; rv:77.0) Gecko/20100101 Firefox/77.0'}\n",
    "    ss=requests.session()\n",
    "    res=ss.get(url,headers=headers)\n",
    "    res_status_code=res.status_code\n",
    "    soup=BeautifulSoup(res.text,'html.parser')\n",
    "    return soup\n",
    "\n",
    "\n",
    "\n",
    "url=\"https://consumer.fda.gov.tw/Food/TFND.aspx?nodeID=178\"\n",
    "\n",
    "\n",
    "save_list=['id','name','kcal']\n",
    "soup=get_html(url)\n",
    "table=soup.select('tr')\n",
    "del table[0]\n",
    "#print(table)\n",
    "for i in table:\n",
    "    print(i.select('td.txt_L.shortStyleAuto')[0])\n",
    "\n",
    "\n",
    "    \n",
    "    #aspnetForm div#ctl00_bgStyle.maninContent.bg div.contentWrap div.Deco div#ctl00_content_SearchPanel div#tabs.tabs div.content div#ctl00_content_ListPanel table.rwd-table tbody tr td.txt_L.shortStyleAuto"
   ]
  },
  {
   "cell_type": "code",
   "execution_count": null,
   "metadata": {},
   "outputs": [],
   "source": []
  }
 ],
 "metadata": {
  "kernelspec": {
   "display_name": "Python 3",
   "language": "python",
   "name": "python3"
  },
  "language_info": {
   "codemirror_mode": {
    "name": "ipython",
    "version": 3
   },
   "file_extension": ".py",
   "mimetype": "text/x-python",
   "name": "python",
   "nbconvert_exporter": "python",
   "pygments_lexer": "ipython3",
   "version": "3.7.7"
  }
 },
 "nbformat": 4,
 "nbformat_minor": 4
}
